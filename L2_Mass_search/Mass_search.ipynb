{
  "nbformat": 4,
  "nbformat_minor": 0,
  "metadata": {
    "colab": {
      "provenance": [],
      "collapsed_sections": [],
      "authorship_tag": "ABX9TyMCNA0yisIpBiXdQHgrPqNZ"
    },
    "kernelspec": {
      "name": "python3",
      "display_name": "Python 3"
    },
    "language_info": {
      "name": "python"
    },
    "accelerator": "GPU",
    "gpuClass": "standard"
  },
  "cells": [
    {
      "cell_type": "markdown",
      "source": [
        "Подгрузка необходимых библиотек"
      ],
      "metadata": {
        "id": "lDU6DPAht5PF"
      }
    },
    {
      "cell_type": "code",
      "execution_count": 62,
      "metadata": {
        "id": "KVs-JIS0KZKn"
      },
      "outputs": [],
      "source": [
        "import numpy as np\n",
        "import pandas as pd\n",
        "from time import time\n",
        "import matplotlib.pyplot as plt\n",
        "from numba import cuda"
      ]
    },
    {
      "cell_type": "markdown",
      "source": [
        "Функция поиска подстрок на CPU"
      ],
      "metadata": {
        "id": "HNVBPdh1t87U"
      }
    },
    {
      "cell_type": "code",
      "source": [
        "def mass_search_CPU(N: np.ndarray, H: np.ndarray, R: np.ndarray):\n",
        "  for j in range(R.shape[1]):\n",
        "    for i in range(R.shape[0]):\n",
        "      n = N[i]\n",
        "      for k in range(len(n)):\n",
        "        if n[k] == H[j]:\n",
        "          R[i, j - k] -= 1\n",
        "  return R"
      ],
      "metadata": {
        "id": "lvtfZU7yKdZG"
      },
      "execution_count": 63,
      "outputs": []
    },
    {
      "cell_type": "markdown",
      "source": [
        "Функция поиска подстрок на GPU"
      ],
      "metadata": {
        "id": "8Q0oRiSvuAej"
      }
    },
    {
      "cell_type": "code",
      "source": [
        "@cuda.jit\n",
        "def mass_search_GPU(N: np.ndarray, H: np.ndarray, R: np.ndarray):\n",
        "\t# Получение асболютного значения индекса потока в сетке\n",
        "\tx, y = cuda.grid(2)\n",
        "\t# Рассматриваем каждый символ подстроки\n",
        "\tn = N[y]\n",
        "\tfor k in range(len(n)):\n",
        "\t\t# Декремент, если символ подстроки совпал с символом входного буффера\n",
        "\t\tif n[k] == H[x]:\n",
        "\t\t\tR[y, x - k] -= 1\n",
        "\tcuda.syncthreads()"
      ],
      "metadata": {
        "id": "Q87FQkB5Kfr9"
      },
      "execution_count": 64,
      "outputs": []
    },
    {
      "cell_type": "markdown",
      "source": [
        "Запись входных данных (N и H) в файл"
      ],
      "metadata": {
        "id": "Mb8JS5Xzuym-"
      }
    },
    {
      "cell_type": "code",
      "source": [
        "def save_input(pathfile: str, N: np.ndarray, H: np.ndarray, mode='a', sheet_name=''):\n",
        "\n",
        "  # Приведение списка символов (подстроки) к типу str\n",
        "  # для корректной записи в excel\n",
        "  new_N = [str(n) for n in N]\n",
        "  \n",
        "  # Создание DataFrame\n",
        "  df = pd.DataFrame({\"N\": new_N, \"H\": H})\n",
        "  \n",
        "  # Если стоит mode='a', то первая запись в файл выдаст ошибку,\n",
        "  # поэтому в этом случае mode меняется на 'w'.\n",
        "  try:\n",
        "    with pd.ExcelWriter(pathfile, mode=mode) as writer:\n",
        "      df.to_excel(writer, sheet_name=sheet_name)\n",
        "  except:\n",
        "    with pd.ExcelWriter(pathfile, mode='w') as writer:\n",
        "      df.to_excel(writer, sheet_name=sheet_name)"
      ],
      "metadata": {
        "id": "sVAzKRulKhxi"
      },
      "execution_count": 65,
      "outputs": []
    },
    {
      "cell_type": "markdown",
      "source": [
        "Запись рабочей матрицы R в файл"
      ],
      "metadata": {
        "id": "0DDlwtbau4TH"
      }
    },
    {
      "cell_type": "code",
      "source": [
        "def save_R(pathfile: str, result: np.ndarray, mode='a'):\n",
        "\n",
        "  df = pd.DataFrame(result)\n",
        "\n",
        "  sheet_name = str(len(N))\n",
        "  \n",
        "  try:\n",
        "    with pd.ExcelWriter(pathfile, mode=mode) as writer:\n",
        "      df.to_excel(writer, sheet_name=sheet_name)\n",
        "  except:\n",
        "    with pd.ExcelWriter(pathfile, mode='w') as writer:\n",
        "      df.to_excel(writer, sheet_name=sheet_name)\n"
      ],
      "metadata": {
        "id": "KnmQoYOmop5K"
      },
      "execution_count": 66,
      "outputs": []
    },
    {
      "cell_type": "markdown",
      "source": [
        "Вычисления на CPU и GPU i раз для усреднения времени"
      ],
      "metadata": {
        "id": "QeNkgODQvPFJ"
      }
    },
    {
      "cell_type": "code",
      "source": [
        "sizes = np.arange(160, 1600, 160)  # Размерности N и H\n",
        "i = 8                            # Кол-во итераций для подсчёта среднего времени\n",
        "N_chars = 2                       # Кол-во символов в подстроках\n",
        "BLOCK_DIM = 32                    # Размерность оси квадратного блока\n",
        "BLOCK_SIZE = (BLOCK_DIM, BLOCK_DIM)\n",
        "\n",
        "alp = np.arange(256)\n",
        "\n",
        "df = {\"Время на GPU\":np.zeros(len(sizes), dtype=float), \n",
        "      \"Время на CPU\":np.zeros(len(sizes), dtype=float),\n",
        "      \"Ускорения\":np.zeros(len(sizes), dtype=float),\n",
        "      \"Одинаковые ли значения?\":np.full(len(sizes), fill_value=True)}\n",
        "\n",
        "df = pd.DataFrame(df, index=sizes)\n",
        "\n",
        "# Вычисления для разных размерностей N и H\n",
        "for size in sizes:\n",
        "\n",
        "  # Случайная генерация подстрок N и входного буффера H\n",
        "  N = np.random.randint(len(alp), size=(size, N_chars), dtype=np.uint8)\n",
        "  H = np.random.randint(len(alp), size=size, dtype=np.uint8)\n",
        "\n",
        "  # Заполнение рабочей матрицы NxH значениями N_chars\n",
        "  R = np.full((size, size), fill_value=N_chars)\n",
        "  # R = np.zeros((size, size), dtype = int)\n",
        "\n",
        "  # Инициализация сетки блоков\n",
        "  GRID_SIZE = ((len(N) + BLOCK_DIM - 1) // BLOCK_DIM , (len(H) + BLOCK_DIM - 1) // BLOCK_DIM)\n",
        "\n",
        "  # Суммы общего времени за определённое кол-во итераций для реализации\n",
        "  gpu_common_time = []\n",
        "  cpu_common_time = []\n",
        "\n",
        "  # Выполнение одних и тех же вычислений для нахождения среднего времени\n",
        "  for _ in range (1):\n",
        "\n",
        "    #Вычисление времени на GPU\n",
        "    start_time = time()\n",
        "    \n",
        "    # Пересылка данных на устройство\n",
        "    dev_N = cuda.to_device(N)\n",
        "    dev_H = cuda.to_device(H)\n",
        "    dev_R = cuda.to_device(R)\n",
        "    \n",
        "    # Запуск вычислений на GPU\n",
        "    mass_search_GPU[GRID_SIZE, BLOCK_SIZE](dev_N, dev_H, dev_R)\n",
        "\n",
        "    # Копирование рабочей матрицы с устройства на хост\n",
        "    host_R = dev_R.copy_to_host()\n",
        "    gpu_common_time.append(time() - start_time)\n",
        "\n",
        "    #Вычисление времени на CPU\n",
        "    start_time = time()\n",
        "    R = mass_search_CPU(N, H, R.copy())\n",
        "    cpu_common_time.append(time() - start_time)\n",
        "\n",
        "    #if _ == 0:\n",
        "    save_R(\"R_GPU.xlsx\", host_R)\n",
        "    save_R(\"R_CPU.xlsx\", R)\n",
        "  \n",
        "  # Запись подсчётов времени и соответствия рабочих матриц\n",
        "  df.loc[size, \"Время на GPU\"] = np.mean(gpu_common_time[0:])\n",
        "  df.loc[size, \"Время на CPU\"] = np.mean(cpu_common_time[0:])\n",
        "  df.loc[size, \"Одинаковые ли значения?\"] = np.array_equal(host_R, R)\n",
        "\n",
        "\n",
        "  # Сохранение входных данных в файл с несколькими листами\n",
        "  save_input(\"input_data.xlsx\", N, H, sheet_name=f'Размер {size}')\n",
        "\n",
        "# Запись значений ускорения GPU над CPU\n",
        "df[\"Ускорение\"] = df[\"Время на CPU\"] / df[\"Время на GPU\"]\n",
        "df"
      ],
      "metadata": {
        "colab": {
          "base_uri": "https://localhost:8080/",
          "height": 421
        },
        "id": "eBYa5xlwKkbE",
        "outputId": "f729ffc0-04fe-47e7-ef74-178e8d7cb68d"
      },
      "execution_count": 67,
      "outputs": [
        {
          "output_type": "stream",
          "name": "stderr",
          "text": [
            "/usr/local/lib/python3.7/dist-packages/numba/cuda/dispatcher.py:488: NumbaPerformanceWarning: Grid size 25 will likely result in GPU under-utilization due to low occupancy.\n",
            "  warn(NumbaPerformanceWarning(msg))\n",
            "/usr/local/lib/python3.7/dist-packages/numba/cuda/dispatcher.py:488: NumbaPerformanceWarning: Grid size 100 will likely result in GPU under-utilization due to low occupancy.\n",
            "  warn(NumbaPerformanceWarning(msg))\n"
          ]
        },
        {
          "output_type": "execute_result",
          "data": {
            "text/plain": [
              "      Время на GPU  Время на CPU  Ускорения  Одинаковые ли значения?  \\\n",
              "160       0.162479      0.019348        0.0                     True   \n",
              "320       0.002857      0.085074        0.0                     True   \n",
              "480       0.002756      0.182420        0.0                     True   \n",
              "640       0.003428      0.319964        0.0                     True   \n",
              "800       0.004474      0.667060        0.0                     True   \n",
              "960       0.006517      0.733069        0.0                     True   \n",
              "1120      0.006926      0.994946        0.0                     True   \n",
              "1280      0.010491      1.275810        0.0                     True   \n",
              "1440      0.010882      1.616858        0.0                     True   \n",
              "\n",
              "       Ускорение  \n",
              "160     0.119078  \n",
              "320    29.777685  \n",
              "480    66.181645  \n",
              "640    93.345482  \n",
              "800   149.099547  \n",
              "960   112.490908  \n",
              "1120  143.652565  \n",
              "1280  121.613986  \n",
              "1440  148.575782  "
            ],
            "text/html": [
              "\n",
              "  <div id=\"df-12657959-538d-495f-84d7-79392f893372\">\n",
              "    <div class=\"colab-df-container\">\n",
              "      <div>\n",
              "<style scoped>\n",
              "    .dataframe tbody tr th:only-of-type {\n",
              "        vertical-align: middle;\n",
              "    }\n",
              "\n",
              "    .dataframe tbody tr th {\n",
              "        vertical-align: top;\n",
              "    }\n",
              "\n",
              "    .dataframe thead th {\n",
              "        text-align: right;\n",
              "    }\n",
              "</style>\n",
              "<table border=\"1\" class=\"dataframe\">\n",
              "  <thead>\n",
              "    <tr style=\"text-align: right;\">\n",
              "      <th></th>\n",
              "      <th>Время на GPU</th>\n",
              "      <th>Время на CPU</th>\n",
              "      <th>Ускорения</th>\n",
              "      <th>Одинаковые ли значения?</th>\n",
              "      <th>Ускорение</th>\n",
              "    </tr>\n",
              "  </thead>\n",
              "  <tbody>\n",
              "    <tr>\n",
              "      <th>160</th>\n",
              "      <td>0.162479</td>\n",
              "      <td>0.019348</td>\n",
              "      <td>0.0</td>\n",
              "      <td>True</td>\n",
              "      <td>0.119078</td>\n",
              "    </tr>\n",
              "    <tr>\n",
              "      <th>320</th>\n",
              "      <td>0.002857</td>\n",
              "      <td>0.085074</td>\n",
              "      <td>0.0</td>\n",
              "      <td>True</td>\n",
              "      <td>29.777685</td>\n",
              "    </tr>\n",
              "    <tr>\n",
              "      <th>480</th>\n",
              "      <td>0.002756</td>\n",
              "      <td>0.182420</td>\n",
              "      <td>0.0</td>\n",
              "      <td>True</td>\n",
              "      <td>66.181645</td>\n",
              "    </tr>\n",
              "    <tr>\n",
              "      <th>640</th>\n",
              "      <td>0.003428</td>\n",
              "      <td>0.319964</td>\n",
              "      <td>0.0</td>\n",
              "      <td>True</td>\n",
              "      <td>93.345482</td>\n",
              "    </tr>\n",
              "    <tr>\n",
              "      <th>800</th>\n",
              "      <td>0.004474</td>\n",
              "      <td>0.667060</td>\n",
              "      <td>0.0</td>\n",
              "      <td>True</td>\n",
              "      <td>149.099547</td>\n",
              "    </tr>\n",
              "    <tr>\n",
              "      <th>960</th>\n",
              "      <td>0.006517</td>\n",
              "      <td>0.733069</td>\n",
              "      <td>0.0</td>\n",
              "      <td>True</td>\n",
              "      <td>112.490908</td>\n",
              "    </tr>\n",
              "    <tr>\n",
              "      <th>1120</th>\n",
              "      <td>0.006926</td>\n",
              "      <td>0.994946</td>\n",
              "      <td>0.0</td>\n",
              "      <td>True</td>\n",
              "      <td>143.652565</td>\n",
              "    </tr>\n",
              "    <tr>\n",
              "      <th>1280</th>\n",
              "      <td>0.010491</td>\n",
              "      <td>1.275810</td>\n",
              "      <td>0.0</td>\n",
              "      <td>True</td>\n",
              "      <td>121.613986</td>\n",
              "    </tr>\n",
              "    <tr>\n",
              "      <th>1440</th>\n",
              "      <td>0.010882</td>\n",
              "      <td>1.616858</td>\n",
              "      <td>0.0</td>\n",
              "      <td>True</td>\n",
              "      <td>148.575782</td>\n",
              "    </tr>\n",
              "  </tbody>\n",
              "</table>\n",
              "</div>\n",
              "      <button class=\"colab-df-convert\" onclick=\"convertToInteractive('df-12657959-538d-495f-84d7-79392f893372')\"\n",
              "              title=\"Convert this dataframe to an interactive table.\"\n",
              "              style=\"display:none;\">\n",
              "        \n",
              "  <svg xmlns=\"http://www.w3.org/2000/svg\" height=\"24px\"viewBox=\"0 0 24 24\"\n",
              "       width=\"24px\">\n",
              "    <path d=\"M0 0h24v24H0V0z\" fill=\"none\"/>\n",
              "    <path d=\"M18.56 5.44l.94 2.06.94-2.06 2.06-.94-2.06-.94-.94-2.06-.94 2.06-2.06.94zm-11 1L8.5 8.5l.94-2.06 2.06-.94-2.06-.94L8.5 2.5l-.94 2.06-2.06.94zm10 10l.94 2.06.94-2.06 2.06-.94-2.06-.94-.94-2.06-.94 2.06-2.06.94z\"/><path d=\"M17.41 7.96l-1.37-1.37c-.4-.4-.92-.59-1.43-.59-.52 0-1.04.2-1.43.59L10.3 9.45l-7.72 7.72c-.78.78-.78 2.05 0 2.83L4 21.41c.39.39.9.59 1.41.59.51 0 1.02-.2 1.41-.59l7.78-7.78 2.81-2.81c.8-.78.8-2.07 0-2.86zM5.41 20L4 18.59l7.72-7.72 1.47 1.35L5.41 20z\"/>\n",
              "  </svg>\n",
              "      </button>\n",
              "      \n",
              "  <style>\n",
              "    .colab-df-container {\n",
              "      display:flex;\n",
              "      flex-wrap:wrap;\n",
              "      gap: 12px;\n",
              "    }\n",
              "\n",
              "    .colab-df-convert {\n",
              "      background-color: #E8F0FE;\n",
              "      border: none;\n",
              "      border-radius: 50%;\n",
              "      cursor: pointer;\n",
              "      display: none;\n",
              "      fill: #1967D2;\n",
              "      height: 32px;\n",
              "      padding: 0 0 0 0;\n",
              "      width: 32px;\n",
              "    }\n",
              "\n",
              "    .colab-df-convert:hover {\n",
              "      background-color: #E2EBFA;\n",
              "      box-shadow: 0px 1px 2px rgba(60, 64, 67, 0.3), 0px 1px 3px 1px rgba(60, 64, 67, 0.15);\n",
              "      fill: #174EA6;\n",
              "    }\n",
              "\n",
              "    [theme=dark] .colab-df-convert {\n",
              "      background-color: #3B4455;\n",
              "      fill: #D2E3FC;\n",
              "    }\n",
              "\n",
              "    [theme=dark] .colab-df-convert:hover {\n",
              "      background-color: #434B5C;\n",
              "      box-shadow: 0px 1px 3px 1px rgba(0, 0, 0, 0.15);\n",
              "      filter: drop-shadow(0px 1px 2px rgba(0, 0, 0, 0.3));\n",
              "      fill: #FFFFFF;\n",
              "    }\n",
              "  </style>\n",
              "\n",
              "      <script>\n",
              "        const buttonEl =\n",
              "          document.querySelector('#df-12657959-538d-495f-84d7-79392f893372 button.colab-df-convert');\n",
              "        buttonEl.style.display =\n",
              "          google.colab.kernel.accessAllowed ? 'block' : 'none';\n",
              "\n",
              "        async function convertToInteractive(key) {\n",
              "          const element = document.querySelector('#df-12657959-538d-495f-84d7-79392f893372');\n",
              "          const dataTable =\n",
              "            await google.colab.kernel.invokeFunction('convertToInteractive',\n",
              "                                                     [key], {});\n",
              "          if (!dataTable) return;\n",
              "\n",
              "          const docLinkHtml = 'Like what you see? Visit the ' +\n",
              "            '<a target=\"_blank\" href=https://colab.research.google.com/notebooks/data_table.ipynb>data table notebook</a>'\n",
              "            + ' to learn more about interactive tables.';\n",
              "          element.innerHTML = '';\n",
              "          dataTable['output_type'] = 'display_data';\n",
              "          await google.colab.output.renderOutput(dataTable, element);\n",
              "          const docLink = document.createElement('div');\n",
              "          docLink.innerHTML = docLinkHtml;\n",
              "          element.appendChild(docLink);\n",
              "        }\n",
              "      </script>\n",
              "    </div>\n",
              "  </div>\n",
              "  "
            ]
          },
          "metadata": {},
          "execution_count": 67
        }
      ]
    }
  ]
}
